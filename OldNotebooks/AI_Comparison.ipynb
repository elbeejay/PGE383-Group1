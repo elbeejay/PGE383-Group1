{
 "cells": [
  {
   "cell_type": "markdown",
   "metadata": {},
   "source": [
    "### Objective: Comparison of well-based and seismic acoustic impedance\n",
    "Check for issues related to sampling bias by using the acoustic impedance data collected at the wells and comparing it to the seismic acoustic impedence which covers the entire site area."
   ]
  },
  {
   "cell_type": "code",
   "execution_count": 1,
   "metadata": {},
   "outputs": [],
   "source": [
    "import numpy as np                        # ndarrys for gridded data\n",
    "import pandas as pd                       # DataFrames for tabular data\n",
    "import os                                 # set working directory, run executables\n",
    "import matplotlib.pyplot as plt           # for plotting\n",
    "import geostatspy.GSLIB as GSLIB          # GSLIB utilies, visualization and wrapper\n",
    "import geostatspy.geostats as geostats    # GSLIB methods convert to Python\n",
    "from scipy import stats                   # for employing statistical tests"
   ]
  },
  {
   "cell_type": "markdown",
   "metadata": {},
   "source": [
    "Reading in both the raw and the cleaned data."
   ]
  },
  {
   "cell_type": "code",
   "execution_count": 2,
   "metadata": {},
   "outputs": [],
   "source": [
    "df_raw = pd.read_csv('1_sample_data.csv')\n",
    "seismic = np.loadtxt('1_AI.csv',delimiter=',')\n",
    "shale_clean = pd.read_csv('Shale_cleaned.csv')\n",
    "sand_clean = pd.read_csv('Sandstone_cleaned.csv')"
   ]
  },
  {
   "cell_type": "markdown",
   "metadata": {},
   "source": [
    "Combining the outlier cleaned dataframes to put both facies back together in a single dataframe. Removing unnecessary columns that are unnamed."
   ]
  },
  {
   "cell_type": "code",
   "execution_count": 3,
   "metadata": {},
   "outputs": [],
   "source": [
    "df_clean = pd.concat([shale_clean, sand_clean], axis=0)\n",
    "del df_clean['Unnamed: 0']\n",
    "del df_clean['Unnamed: 0.1']"
   ]
  },
  {
   "cell_type": "markdown",
   "metadata": {},
   "source": [
    "Checking the first few rows of the combined dataframe and then checking the basic descriptive statistics."
   ]
  },
  {
   "cell_type": "code",
   "execution_count": 4,
   "metadata": {},
   "outputs": [
    {
     "data": {
      "text/html": [
       "<div>\n",
       "<style scoped>\n",
       "    .dataframe tbody tr th:only-of-type {\n",
       "        vertical-align: middle;\n",
       "    }\n",
       "\n",
       "    .dataframe tbody tr th {\n",
       "        vertical-align: top;\n",
       "    }\n",
       "\n",
       "    .dataframe thead th {\n",
       "        text-align: right;\n",
       "    }\n",
       "</style>\n",
       "<table border=\"1\" class=\"dataframe\">\n",
       "  <thead>\n",
       "    <tr style=\"text-align: right;\">\n",
       "      <th></th>\n",
       "      <th>X</th>\n",
       "      <th>Y</th>\n",
       "      <th>Facies</th>\n",
       "      <th>Porosity</th>\n",
       "      <th>Perm</th>\n",
       "      <th>AI</th>\n",
       "    </tr>\n",
       "  </thead>\n",
       "  <tbody>\n",
       "    <tr>\n",
       "      <th>0</th>\n",
       "      <td>80.0</td>\n",
       "      <td>280.0</td>\n",
       "      <td>0.0</td>\n",
       "      <td>0.102919</td>\n",
       "      <td>0.196018</td>\n",
       "      <td>6753.323723</td>\n",
       "    </tr>\n",
       "    <tr>\n",
       "      <th>1</th>\n",
       "      <td>160.0</td>\n",
       "      <td>840.0</td>\n",
       "      <td>0.0</td>\n",
       "      <td>0.128852</td>\n",
       "      <td>0.673043</td>\n",
       "      <td>6068.296567</td>\n",
       "    </tr>\n",
       "    <tr>\n",
       "      <th>2</th>\n",
       "      <td>160.0</td>\n",
       "      <td>760.0</td>\n",
       "      <td>0.0</td>\n",
       "      <td>0.103365</td>\n",
       "      <td>5.368073</td>\n",
       "      <td>5574.433666</td>\n",
       "    </tr>\n",
       "    <tr>\n",
       "      <th>3</th>\n",
       "      <td>160.0</td>\n",
       "      <td>120.0</td>\n",
       "      <td>0.0</td>\n",
       "      <td>0.142252</td>\n",
       "      <td>5.189214</td>\n",
       "      <td>7330.542384</td>\n",
       "    </tr>\n",
       "    <tr>\n",
       "      <th>4</th>\n",
       "      <td>320.0</td>\n",
       "      <td>120.0</td>\n",
       "      <td>0.0</td>\n",
       "      <td>0.135132</td>\n",
       "      <td>1.850340</td>\n",
       "      <td>5501.993421</td>\n",
       "    </tr>\n",
       "  </tbody>\n",
       "</table>\n",
       "</div>"
      ],
      "text/plain": [
       "       X      Y  Facies  Porosity      Perm           AI\n",
       "0   80.0  280.0     0.0  0.102919  0.196018  6753.323723\n",
       "1  160.0  840.0     0.0  0.128852  0.673043  6068.296567\n",
       "2  160.0  760.0     0.0  0.103365  5.368073  5574.433666\n",
       "3  160.0  120.0     0.0  0.142252  5.189214  7330.542384\n",
       "4  320.0  120.0     0.0  0.135132  1.850340  5501.993421"
      ]
     },
     "execution_count": 4,
     "metadata": {},
     "output_type": "execute_result"
    }
   ],
   "source": [
    "df_clean.head()"
   ]
  },
  {
   "cell_type": "code",
   "execution_count": 5,
   "metadata": {},
   "outputs": [
    {
     "data": {
      "text/html": [
       "<div>\n",
       "<style scoped>\n",
       "    .dataframe tbody tr th:only-of-type {\n",
       "        vertical-align: middle;\n",
       "    }\n",
       "\n",
       "    .dataframe tbody tr th {\n",
       "        vertical-align: top;\n",
       "    }\n",
       "\n",
       "    .dataframe thead th {\n",
       "        text-align: right;\n",
       "    }\n",
       "</style>\n",
       "<table border=\"1\" class=\"dataframe\">\n",
       "  <thead>\n",
       "    <tr style=\"text-align: right;\">\n",
       "      <th></th>\n",
       "      <th>X</th>\n",
       "      <th>Y</th>\n",
       "      <th>Facies</th>\n",
       "      <th>Porosity</th>\n",
       "      <th>Perm</th>\n",
       "      <th>AI</th>\n",
       "    </tr>\n",
       "  </thead>\n",
       "  <tbody>\n",
       "    <tr>\n",
       "      <th>count</th>\n",
       "      <td>217.000000</td>\n",
       "      <td>217.000000</td>\n",
       "      <td>217.000000</td>\n",
       "      <td>217.000000</td>\n",
       "      <td>217.000000</td>\n",
       "      <td>217.000000</td>\n",
       "    </tr>\n",
       "    <tr>\n",
       "      <th>mean</th>\n",
       "      <td>499.239631</td>\n",
       "      <td>511.829493</td>\n",
       "      <td>0.755760</td>\n",
       "      <td>0.135367</td>\n",
       "      <td>18.035989</td>\n",
       "      <td>5345.280866</td>\n",
       "    </tr>\n",
       "    <tr>\n",
       "      <th>std</th>\n",
       "      <td>289.087802</td>\n",
       "      <td>278.041819</td>\n",
       "      <td>0.430629</td>\n",
       "      <td>0.024090</td>\n",
       "      <td>31.580576</td>\n",
       "      <td>1015.398810</td>\n",
       "    </tr>\n",
       "    <tr>\n",
       "      <th>min</th>\n",
       "      <td>0.000000</td>\n",
       "      <td>9.000000</td>\n",
       "      <td>0.000000</td>\n",
       "      <td>0.060693</td>\n",
       "      <td>0.018054</td>\n",
       "      <td>3017.611167</td>\n",
       "    </tr>\n",
       "    <tr>\n",
       "      <th>25%</th>\n",
       "      <td>240.000000</td>\n",
       "      <td>280.000000</td>\n",
       "      <td>1.000000</td>\n",
       "      <td>0.117816</td>\n",
       "      <td>0.991764</td>\n",
       "      <td>4636.958847</td>\n",
       "    </tr>\n",
       "    <tr>\n",
       "      <th>50%</th>\n",
       "      <td>490.000000</td>\n",
       "      <td>519.000000</td>\n",
       "      <td>1.000000</td>\n",
       "      <td>0.137027</td>\n",
       "      <td>4.903753</td>\n",
       "      <td>5352.280145</td>\n",
       "    </tr>\n",
       "    <tr>\n",
       "      <th>75%</th>\n",
       "      <td>740.000000</td>\n",
       "      <td>749.000000</td>\n",
       "      <td>1.000000</td>\n",
       "      <td>0.151227</td>\n",
       "      <td>15.704735</td>\n",
       "      <td>6155.298167</td>\n",
       "    </tr>\n",
       "    <tr>\n",
       "      <th>max</th>\n",
       "      <td>990.000000</td>\n",
       "      <td>1014.000000</td>\n",
       "      <td>1.000000</td>\n",
       "      <td>0.204388</td>\n",
       "      <td>193.746824</td>\n",
       "      <td>7911.757046</td>\n",
       "    </tr>\n",
       "  </tbody>\n",
       "</table>\n",
       "</div>"
      ],
      "text/plain": [
       "                X            Y      Facies    Porosity        Perm  \\\n",
       "count  217.000000   217.000000  217.000000  217.000000  217.000000   \n",
       "mean   499.239631   511.829493    0.755760    0.135367   18.035989   \n",
       "std    289.087802   278.041819    0.430629    0.024090   31.580576   \n",
       "min      0.000000     9.000000    0.000000    0.060693    0.018054   \n",
       "25%    240.000000   280.000000    1.000000    0.117816    0.991764   \n",
       "50%    490.000000   519.000000    1.000000    0.137027    4.903753   \n",
       "75%    740.000000   749.000000    1.000000    0.151227   15.704735   \n",
       "max    990.000000  1014.000000    1.000000    0.204388  193.746824   \n",
       "\n",
       "                AI  \n",
       "count   217.000000  \n",
       "mean   5345.280866  \n",
       "std    1015.398810  \n",
       "min    3017.611167  \n",
       "25%    4636.958847  \n",
       "50%    5352.280145  \n",
       "75%    6155.298167  \n",
       "max    7911.757046  "
      ]
     },
     "execution_count": 5,
     "metadata": {},
     "output_type": "execute_result"
    }
   ],
   "source": [
    "df_clean.describe()"
   ]
  },
  {
   "cell_type": "markdown",
   "metadata": {},
   "source": [
    "Comparing the histogram of acoustic impedence before and after data outliers were removed. "
   ]
  },
  {
   "cell_type": "code",
   "execution_count": 6,
   "metadata": {
    "code_folding": [
     0
    ]
   },
   "outputs": [
    {
     "data": {
      "image/png": "[encoded data removed]",
      "text/plain": [
       "<Figure size 432x288 with 1 Axes>"
      ]
     },
     "metadata": {
      "needs_background": "light"
     },
     "output_type": "display_data"
    }
   ],
   "source": [
    "# comparing histograms of well AI with and without outliers\n",
    "n_bins = 20\n",
    "\n",
    "fig, ax1 = plt.subplots()\n",
    "ax1.hist(df_clean['AI'], bins=n_bins, density=True, alpha=0.25, color='b', label='Clean Well AI')\n",
    "ax1.hist(df_raw['AI'], bins=n_bins, density=True, alpha=0.25, color='r', label='Raw Well AI')\n",
    "ax1.set_title('Discrete PDFs of Acoustic Impedence With and Without Outliers')\n",
    "ax1.set_ylabel('Density')\n",
    "ax1.set_xlabel('Acoustic Impedence')\n",
    "ax1.legend()\n",
    "\n",
    "plt.show()"
   ]
  },
  {
   "cell_type": "markdown",
   "metadata": {},
   "source": [
    "Plotting histograms (normalized to be discrete PDFs) of the acoustic impedance data taken at wells with the seismic field of acoustic data. This allows us to compare the shapes of these discrete PDFs. "
   ]
  },
  {
   "cell_type": "code",
   "execution_count": 19,
   "metadata": {
    "code_folding": []
   },
   "outputs": [
    {
     "data": {
      "image/png": "[encoded data removed]",
      "text/plain": [
       "<Figure size 432x288 with 1 Axes>"
      ]
     },
     "metadata": {
      "needs_background": "light"
     },
     "output_type": "display_data"
    }
   ],
   "source": [
    "# comparing histograms (PDF) of well AI with field of AI\n",
    "n_bins = 20\n",
    "\n",
    "fig, ax1 = plt.subplots()\n",
    "ax1.hist(df_clean['AI'], bins=n_bins, density=True, edgecolor='gray', alpha=0.25, color='b', label='Well AI')\n",
    "ax1.hist(seismic.flatten(), bins=n_bins, density=True, edgecolor='gray', alpha=0.25, color='r', label='Seismic AI')\n",
    "ax1.set_title('Discrete PDFs of Acoustic Impedence - Well and Seismic')\n",
    "ax1.set_ylabel('Density')\n",
    "ax1.set_xlabel('Acoustic Impedence')\n",
    "ax1.legend()\n",
    "\n",
    "plt.grid(True)\n",
    "plt.show()"
   ]
  },
  {
   "cell_type": "code",
   "execution_count": 21,
   "metadata": {
    "code_folding": []
   },
   "outputs": [
    {
     "data": {
      "image/png": "[encoded data removed]",
      "text/plain": [
       "<Figure size 432x288 with 1 Axes>"
      ]
     },
     "metadata": {
      "needs_background": "light"
     },
     "output_type": "display_data"
    }
   ],
   "source": [
    "# comparing histograms (CDF) of well AI with field of AI\n",
    "n_bins = 20\n",
    "\n",
    "fig, ax1 = plt.subplots()\n",
    "ax1.hist(df_clean['AI'], bins=n_bins, density=True, edgecolor='gray', cumulative=True, alpha=0.25, color='b', label='Well AI')\n",
    "ax1.hist(seismic.flatten(), bins=n_bins, density=True, edgecolor='gray', cumulative=True, alpha=0.25, color='r', label='Seismic AI')\n",
    "ax1.set_title('Discrete CDFs of Acoustic Impedence - Well and Seismic')\n",
    "ax1.set_ylabel('Density')\n",
    "ax1.set_xlabel('Acoustic Impedence')\n",
    "ax1.legend()\n",
    "plt.grid(True)\n",
    "plt.show()"
   ]
  },
  {
   "cell_type": "code",
   "execution_count": 8,
   "metadata": {},
   "outputs": [
    {
     "name": "stdout",
     "output_type": "stream",
     "text": [
      "Average acoustic impedance from well data: 5345.3\n",
      "Average acoustic impedance from seismic: 5444.0\n",
      "\n",
      "Median acoustic impedance from well data: 5352.3\n",
      "Median acoustic impedance from seismic: 5402.8\n",
      "\n",
      "Variance in acoustic impedance from well data: 1026283.4\n",
      "Variance acoustic impedance from seismic: 1185485.4\n"
     ]
    }
   ],
   "source": [
    "print('Average acoustic impedance from well data: ' + str(round(df_clean['AI'].values.mean(),1)))\n",
    "print('Average acoustic impedance from seismic: ' + str(seismic.mean()))\n",
    "print()\n",
    "print('Median acoustic impedance from well data: ' + str(round(np.median(df_clean['AI'].values),1)))\n",
    "print('Median acoustic impedance from seismic: ' + str(round(np.median(seismic),1)))\n",
    "print()\n",
    "print('Variance in acoustic impedance from well data: ' + str(round(np.var(df_clean['AI'].values),1)))\n",
    "print('Variance acoustic impedance from seismic: ' + str(round(np.var(seismic),1)))"
   ]
  },
  {
   "cell_type": "markdown",
   "metadata": {},
   "source": [
    "## Hypothesis Testing\n",
    "\n",
    "Use the scipy stats package to perform a 2 sample t-test to test the null hypothesis that the mean of the acoustic impedance sampled from the wells ($\\mu_{{AI}_{wells}}$) is equal to the mean acoustic impedance collected from the seismic data ($\\mu_{{AI}_{seis}}$). \n",
    "\n",
    "$H_0: \\mu_{{AI}_{wells}} = \\mu_{{AI}_{seis}}$\n",
    "\n",
    "$H_A: \\mu_{{AI}_{wells}} \\neq \\mu_{{AI}_{seis}}$\n",
    "\n",
    "The p-value returned by this test is approximately $p = 0.1859$. Therefore at a 5% confidence level ($\\alpha = 0.05$) we cannot reject the null hypothesis, and we would say that the two sets of data share the same average.\n"
   ]
  },
  {
   "cell_type": "code",
   "execution_count": 9,
   "metadata": {},
   "outputs": [
    {
     "data": {
      "text/plain": [
       "Ttest_indResult(statistic=-1.323119677764624, pvalue=0.18582519710534606)"
      ]
     },
     "execution_count": 9,
     "metadata": {},
     "output_type": "execute_result"
    }
   ],
   "source": [
    "stats.ttest_ind(df_clean['AI'],seismic.flatten())"
   ]
  },
  {
   "cell_type": "markdown",
   "metadata": {},
   "source": [
    "Performing a Rank-Sum test on the acoustic impedance samples to check if the measurements are taken from the same distribution. The Rank-Sum test returned a p-value of 0.2075, suggesting that at a 5% confidence level the null hypothesis that the distributions are equal cannot be rejected. This test further confirms the results from the 2 sample t-test. The Rank-Sum test might be thought of as the non-parametric analog to the t-test (i.e. it does not assume a normally distributed population)."
   ]
  },
  {
   "cell_type": "code",
   "execution_count": 10,
   "metadata": {},
   "outputs": [
    {
     "data": {
      "text/plain": [
       "RanksumsResult(statistic=-1.2604127847913624, pvalue=0.20752049201858347)"
      ]
     },
     "execution_count": 10,
     "metadata": {},
     "output_type": "execute_result"
    }
   ],
   "source": [
    "stats.ranksums(df_clean['AI'],seismic.flatten())"
   ]
  },
  {
   "cell_type": "markdown",
   "metadata": {},
   "source": [
    "We can further test the different sampling methods by employing techniques typically used to evaluate groups of data. The popular ANOVA tests the null hypothesis that the mean values for the datasets are equivalent, it is a parametric test which assumes that the samples are drawn from a normally distributed population. The resulting p-value from our ANOVA test was 0.1858, and therefore the null is not rejected. Similarly, the Kruskal-Wallace test is the non-parametric analog to the ANOVA, and tests the null hypothesis that the population medians are equal. The p-value obtained via the Kruskal-Wallace test is 0.2075 and so the null is not rejected in this test either."
   ]
  },
  {
   "cell_type": "code",
   "execution_count": 11,
   "metadata": {},
   "outputs": [
    {
     "data": {
      "text/plain": [
       "F_onewayResult(statistic=1.7506456816879743, pvalue=0.1858251971043204)"
      ]
     },
     "execution_count": 11,
     "metadata": {},
     "output_type": "execute_result"
    }
   ],
   "source": [
    "stats.f_oneway(df_clean['AI'],seismic.flatten())"
   ]
  },
  {
   "cell_type": "code",
   "execution_count": 12,
   "metadata": {},
   "outputs": [
    {
     "data": {
      "text/plain": [
       "KruskalResult(statistic=1.5886403894234302, pvalue=0.20752049182435714)"
      ]
     },
     "execution_count": 12,
     "metadata": {},
     "output_type": "execute_result"
    }
   ],
   "source": [
    "stats.kruskal(df_clean['AI'],seismic.flatten())"
   ]
  }
 ],
 "metadata": {
  "kernelspec": {
   "display_name": "Python (geo)",
   "language": "python",
   "name": "geo"
  },
  "language_info": {
   "codemirror_mode": {
    "name": "ipython",
    "version": 3
   },
   "file_extension": ".py",
   "mimetype": "text/x-python",
   "name": "python",
   "nbconvert_exporter": "python",
   "pygments_lexer": "ipython3",
   "version": "3.5.2"
  }
 },
 "nbformat": 4,
 "nbformat_minor": 2
}
