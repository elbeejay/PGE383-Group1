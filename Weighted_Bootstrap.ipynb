{
 "cells": [
  {
   "cell_type": "markdown",
   "metadata": {},
   "source": [
    "Function written to account for spatial cell declustering weights when boostrapping from a set of data."
   ]
  },
  {
   "cell_type": "code",
   "execution_count": 1,
   "metadata": {},
   "outputs": [],
   "source": [
    "# packages needed for the function\n",
    "import pandas as pd\n",
    "import numpy as np\n",
    "\n",
    "# defining function to bootstrap\n",
    "# acknowledging the weights from declustering analysis\n",
    "def weighted_bootstrap(DataFrame,var_name,num_samples):\n",
    "    '''\n",
    "    Input DataFrame contains:\n",
    "        1. Variable to be boostrapped\n",
    "        2. Variable name to be used e.g. 'Porosity'\n",
    "        3. Declustered weights to be applied ['Wts']\n",
    "        \n",
    "    num_samples = number of times to resample with\n",
    "                replacement from the original variable\n",
    "                \n",
    "    Returns a randomly sampled 'boostrapped' ndarray called 'sample'\n",
    "    '''\n",
    "    \n",
    "    naive_prob = 1/len(DataFrame['Wts'])\n",
    "    DataFrame['NewProb'] = DataFrame['Wts'] * naive_prob\n",
    "    sample = np.random.choice(DataFrame[var_name],\n",
    "                             size=num_samples,\n",
    "                             replace=True,p=DataFrame['NewProb'])\n",
    "    return sample"
   ]
  }
 ],
 "metadata": {
  "kernelspec": {
   "display_name": "Python 3",
   "language": "python",
   "name": "python3"
  },
  "language_info": {
   "codemirror_mode": {
    "name": "ipython",
    "version": 3
   },
   "file_extension": ".py",
   "mimetype": "text/x-python",
   "name": "python",
   "nbconvert_exporter": "python",
   "pygments_lexer": "ipython3",
   "version": "3.7.0"
  }
 },
 "nbformat": 4,
 "nbformat_minor": 2
}
