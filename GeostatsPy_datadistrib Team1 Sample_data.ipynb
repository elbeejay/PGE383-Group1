{
 "cells": [
  {
   "cell_type": "markdown",
   "metadata": {
    "collapsed": true
   },
   "source": [
    "\n",
    "## GeostatsPy: Basic Univariate Statistics and Distribution Plotting for Subsurface Data Analytics in Python \n",
    "\n",
    "\n",
    "### Michael Pyrcz, Associate Professor, University of Texas at Austin \n",
    "\n",
    "#### [Twitter](https://twitter.com/geostatsguy) | [GitHub](https://github.com/GeostatsGuy) | [Website](http://michaelpyrcz.com) | [GoogleScholar](https://scholar.google.com/citations?user=QVZ20eQAAAAJ&hl=en&oi=ao) | [Book](https://www.amazon.com/Geostatistical-Reservoir-Modeling-Michael-Pyrcz/dp/0199731446) | [YouTube](https://www.youtube.com/channel/UCLqEr-xV-ceHdXXXrTId5ig)  | [LinkedIn](https://www.linkedin.com/in/michael-pyrcz-61a648a1)\n"
   ]
  },
  {
   "cell_type": "markdown",
   "metadata": {},
   "source": [
    "### PGE 383 Exercise: Basic Univariate Summary Statistics and Data Distribution Plotting in Python with GeostatsPy\n",
    "\n",
    "Here's a simple workflow with some basic univariate statistics and distribution plotting of tabular (easily extended to gridded) data summary statistics and distributions. This should help you get started data visualization and interpretation.\n",
    "\n",
    "#### Objective \n",
    "\n",
    "In the PGE 383: Stochastic Subsurface Modeling class I want to provide hands-on experience with building subsurface modeling workflows. Python provides an excellent vehicle to accomplish this. I have coded a package called GeostatsPy with GSLIB: Geostatistical Library (Deutsch and Journel, 1998) functionality that provides basic building blocks for building subsurface modeling workflows. \n",
    "\n",
    "The objective is to remove the hurdles of subsurface modeling workflow construction by providing building blocks and sufficient examples. This is not a coding class per se, but we need the ability to 'script' workflows working with numerical methods.    \n",
    "\n",
    "#### Getting Started\n",
    "\n",
    "Here's the steps to get setup in Python with the GeostatsPy package:\n",
    "\n",
    "1. Install Anaconda 3 on your machine (https://www.anaconda.com/download/). \n",
    "2. From Anaconda Navigator (within Anaconda3 group), go to the environment tab, click on base (root) green arrow and open a terminal. \n",
    "3. In the terminal type: pip install geostatspy. \n",
    "4. Open Jupyter and in the top block get started by copy and pasting the code block below from this Jupyter Notebook to start using the geostatspy functionality. \n",
    "\n",
    "You will need to copy the data files to your working directory.  They are avaiable here:\n",
    "\n",
    "1. Tabular data - sample_data.csv at https://git.io/fh4gm\n",
    "2. Gridded data - AI_grid.csv at https://git.io/fh4gU\n",
    "\n",
    "There are exampled below with these functions. You can go here to see a list of the available functions, https://git.io/fh4eX, other example workflows and source code. "
   ]
  },
  {
   "cell_type": "code",
   "execution_count": 1,
   "metadata": {},
   "outputs": [],
   "source": [
    "import geostatspy.GSLIB as GSLIB          # GSLIB utilies, visualization and wrapper\n",
    "import geostatspy.geostats as geostats    # GSLIB methods convert to Python        "
   ]
  },
  {
   "cell_type": "markdown",
   "metadata": {},
   "source": [
    "We will also need some standard packages. These should have been installed with Anaconda 3."
   ]
  },
  {
   "cell_type": "code",
   "execution_count": 2,
   "metadata": {},
   "outputs": [],
   "source": [
    "import numpy as np                        # ndarrys for gridded data\n",
    "import pandas as pd                       # DataFrames for tabular data\n",
    "import os                                 # set working directory, run executables\n",
    "import matplotlib.pyplot as plt           # for plotting\n",
    "from scipy import stats                   # summary statistics"
   ]
  },
  {
   "cell_type": "markdown",
   "metadata": {},
   "source": [
    "#### Set the working directory\n",
    "\n",
    "I always like to do this so I don't lose files and to simplify subsequent read and writes (avoid including the full address each time). "
   ]
  },
  {
   "cell_type": "code",
   "execution_count": 3,
   "metadata": {},
   "outputs": [],
   "source": [
    "os.chdir(\"C:\\\\Users\\\\Navas Archila Family\\\\Stochastic Methods\\\\Project Info\")      # set the working directory"
   ]
  },
  {
   "cell_type": "markdown",
   "metadata": {},
   "source": [
    "#### Loading Tabular Data\n",
    "\n",
    "Here's the command to load our comma delimited data file in to a Pandas' DataFrame object.  For fun try misspelling the name. You will get an ugly, long error.  "
   ]
  },
  {
   "cell_type": "code",
   "execution_count": 4,
   "metadata": {},
   "outputs": [],
   "source": [
    "df = pd.read_csv('1_sample_data.csv')     # load our data table (wrong name!)"
   ]
  },
  {
   "cell_type": "markdown",
   "metadata": {},
   "source": [
    "That's Python, but there's method to the madness. In general the error shows a trace from the initial command into all the nested programs involved until the actual error occured. If you are debugging code (I know, I'm getting ahead of myself now), this is valuable for the detective work of figuring out what went wrong. I've spent days in C++ debugging one issue, this helps. So since you're working in Jupyter Notebook, the program just assumes you code. Fine. If you scroll to the bottom of the error you often get a summary statement *FileNotFoundError: File b'sample_data_cow.csv' does not exist*. Ok, now you know that you don't have a file iwth that name in the working directory.  \n",
    "\n",
    "Painful to leave that error in our workflow, eh? Everytime I passes it while making this documented I wanted to fix it. Its a coder thing... go ahead and erase it if you like. Just select the block and click on the scissors above in the top bar of this window. While we are at it, notice if you click the '+' you can add in a new block anywhere. Ok, let's spell the file name correctly and get back to work, already."
   ]
  },
  {
   "cell_type": "code",
   "execution_count": 5,
   "metadata": {},
   "outputs": [],
   "source": [
    "df = pd.read_csv('1_sample_data.csv')     # load our data table (wrong name!)"
   ]
  },
  {
   "cell_type": "markdown",
   "metadata": {},
   "source": [
    "No error now! It worked, we loaded our file into our DataFrame called 'df'. But how do you really know that it worked? Visualizing the DataFrame would be useful and we already leard about these methods in this demo (https://git.io/fNgRW). \n",
    "\n",
    "We can preview the DataFrame by printing a slice or by utilizing the 'head' DataFrame member function (with a nice and clean format, see below). With the slice we could look at any subset of the data table and with the head command, add parameter 'n=13' to see the first 13 rows of the dataset.  "
   ]
  },
  {
   "cell_type": "code",
   "execution_count": 6,
   "metadata": {},
   "outputs": [
    {
     "name": "stdout",
     "output_type": "stream",
     "text": [
      "   Unnamed: 0      X      Y  Facies  Porosity       Perm           AI\n",
      "0           0   80.0  920.0     1.0  0.164331  69.106615  5012.616594\n",
      "1           3   80.0  680.0     1.0  0.133723   1.558072  5710.579850\n",
      "2           4   80.0  600.0     1.0  0.096295   3.568959  4912.388066\n",
      "3           8   80.0  280.0     0.0  0.102919   0.196018  6753.323723\n",
      "4          11   80.0   40.0     1.0  0.145738   0.109943  6492.944055\n",
      "5          13  160.0  840.0     0.0  0.128852   0.673043  6068.296567\n",
      "6          14  160.0  760.0     0.0  0.103365   5.368073  5574.433666\n",
      "7          15  160.0  680.0     0.0  0.126885  24.314420  4201.709904\n"
     ]
    },
    {
     "data": {
      "text/html": [
       "<div>\n",
       "<style scoped>\n",
       "    .dataframe tbody tr th:only-of-type {\n",
       "        vertical-align: middle;\n",
       "    }\n",
       "\n",
       "    .dataframe tbody tr th {\n",
       "        vertical-align: top;\n",
       "    }\n",
       "\n",
       "    .dataframe thead th {\n",
       "        text-align: right;\n",
       "    }\n",
       "</style>\n",
       "<table border=\"1\" class=\"dataframe\">\n",
       "  <thead>\n",
       "    <tr style=\"text-align: right;\">\n",
       "      <th></th>\n",
       "      <th>Unnamed: 0</th>\n",
       "      <th>X</th>\n",
       "      <th>Y</th>\n",
       "      <th>Facies</th>\n",
       "      <th>Porosity</th>\n",
       "      <th>Perm</th>\n",
       "      <th>AI</th>\n",
       "    </tr>\n",
       "  </thead>\n",
       "  <tbody>\n",
       "    <tr>\n",
       "      <th>0</th>\n",
       "      <td>0</td>\n",
       "      <td>80.0</td>\n",
       "      <td>920.0</td>\n",
       "      <td>1.0</td>\n",
       "      <td>0.164331</td>\n",
       "      <td>69.106615</td>\n",
       "      <td>5012.616594</td>\n",
       "    </tr>\n",
       "    <tr>\n",
       "      <th>1</th>\n",
       "      <td>3</td>\n",
       "      <td>80.0</td>\n",
       "      <td>680.0</td>\n",
       "      <td>1.0</td>\n",
       "      <td>0.133723</td>\n",
       "      <td>1.558072</td>\n",
       "      <td>5710.579850</td>\n",
       "    </tr>\n",
       "    <tr>\n",
       "      <th>2</th>\n",
       "      <td>4</td>\n",
       "      <td>80.0</td>\n",
       "      <td>600.0</td>\n",
       "      <td>1.0</td>\n",
       "      <td>0.096295</td>\n",
       "      <td>3.568959</td>\n",
       "      <td>4912.388066</td>\n",
       "    </tr>\n",
       "    <tr>\n",
       "      <th>3</th>\n",
       "      <td>8</td>\n",
       "      <td>80.0</td>\n",
       "      <td>280.0</td>\n",
       "      <td>0.0</td>\n",
       "      <td>0.102919</td>\n",
       "      <td>0.196018</td>\n",
       "      <td>6753.323723</td>\n",
       "    </tr>\n",
       "    <tr>\n",
       "      <th>4</th>\n",
       "      <td>11</td>\n",
       "      <td>80.0</td>\n",
       "      <td>40.0</td>\n",
       "      <td>1.0</td>\n",
       "      <td>0.145738</td>\n",
       "      <td>0.109943</td>\n",
       "      <td>6492.944055</td>\n",
       "    </tr>\n",
       "    <tr>\n",
       "      <th>5</th>\n",
       "      <td>13</td>\n",
       "      <td>160.0</td>\n",
       "      <td>840.0</td>\n",
       "      <td>0.0</td>\n",
       "      <td>0.128852</td>\n",
       "      <td>0.673043</td>\n",
       "      <td>6068.296567</td>\n",
       "    </tr>\n",
       "    <tr>\n",
       "      <th>6</th>\n",
       "      <td>14</td>\n",
       "      <td>160.0</td>\n",
       "      <td>760.0</td>\n",
       "      <td>0.0</td>\n",
       "      <td>0.103365</td>\n",
       "      <td>5.368073</td>\n",
       "      <td>5574.433666</td>\n",
       "    </tr>\n",
       "    <tr>\n",
       "      <th>7</th>\n",
       "      <td>15</td>\n",
       "      <td>160.0</td>\n",
       "      <td>680.0</td>\n",
       "      <td>0.0</td>\n",
       "      <td>0.126885</td>\n",
       "      <td>24.314420</td>\n",
       "      <td>4201.709904</td>\n",
       "    </tr>\n",
       "    <tr>\n",
       "      <th>8</th>\n",
       "      <td>19</td>\n",
       "      <td>160.0</td>\n",
       "      <td>360.0</td>\n",
       "      <td>1.0</td>\n",
       "      <td>0.148611</td>\n",
       "      <td>45.082381</td>\n",
       "      <td>6643.024955</td>\n",
       "    </tr>\n",
       "    <tr>\n",
       "      <th>9</th>\n",
       "      <td>20</td>\n",
       "      <td>160.0</td>\n",
       "      <td>280.0</td>\n",
       "      <td>1.0</td>\n",
       "      <td>0.113361</td>\n",
       "      <td>0.584447</td>\n",
       "      <td>6285.906684</td>\n",
       "    </tr>\n",
       "    <tr>\n",
       "      <th>10</th>\n",
       "      <td>22</td>\n",
       "      <td>160.0</td>\n",
       "      <td>120.0</td>\n",
       "      <td>0.0</td>\n",
       "      <td>0.142252</td>\n",
       "      <td>5.189214</td>\n",
       "      <td>7330.542384</td>\n",
       "    </tr>\n",
       "    <tr>\n",
       "      <th>11</th>\n",
       "      <td>25</td>\n",
       "      <td>240.0</td>\n",
       "      <td>840.0</td>\n",
       "      <td>1.0</td>\n",
       "      <td>0.138287</td>\n",
       "      <td>58.992416</td>\n",
       "      <td>5004.663292</td>\n",
       "    </tr>\n",
       "    <tr>\n",
       "      <th>12</th>\n",
       "      <td>26</td>\n",
       "      <td>240.0</td>\n",
       "      <td>760.0</td>\n",
       "      <td>1.0</td>\n",
       "      <td>0.138240</td>\n",
       "      <td>7.311809</td>\n",
       "      <td>5585.804077</td>\n",
       "    </tr>\n",
       "  </tbody>\n",
       "</table>\n",
       "</div>"
      ],
      "text/plain": [
       "    Unnamed: 0      X      Y  Facies  Porosity       Perm           AI\n",
       "0            0   80.0  920.0     1.0  0.164331  69.106615  5012.616594\n",
       "1            3   80.0  680.0     1.0  0.133723   1.558072  5710.579850\n",
       "2            4   80.0  600.0     1.0  0.096295   3.568959  4912.388066\n",
       "3            8   80.0  280.0     0.0  0.102919   0.196018  6753.323723\n",
       "4           11   80.0   40.0     1.0  0.145738   0.109943  6492.944055\n",
       "5           13  160.0  840.0     0.0  0.128852   0.673043  6068.296567\n",
       "6           14  160.0  760.0     0.0  0.103365   5.368073  5574.433666\n",
       "7           15  160.0  680.0     0.0  0.126885  24.314420  4201.709904\n",
       "8           19  160.0  360.0     1.0  0.148611  45.082381  6643.024955\n",
       "9           20  160.0  280.0     1.0  0.113361   0.584447  6285.906684\n",
       "10          22  160.0  120.0     0.0  0.142252   5.189214  7330.542384\n",
       "11          25  240.0  840.0     1.0  0.138287  58.992416  5004.663292\n",
       "12          26  240.0  760.0     1.0  0.138240   7.311809  5585.804077"
      ]
     },
     "execution_count": 6,
     "metadata": {},
     "output_type": "execute_result"
    }
   ],
   "source": [
    "print(df.iloc[0:8,:])                   # display first 4 samples in the table as a preview\n",
    "df.head(n=13)                           # we could also use this command for a table preview"
   ]
  },
  {
   "cell_type": "markdown",
   "metadata": {},
   "source": [
    "#### Summary Statistics for Tabular Data\n",
    "\n",
    "The table includes X and Y coordinates (meters), Facies 1 and 2 (1 is sandstone and 0 interbedded sand and mudstone), Porosity (fraction), permeability as Perm (mDarcy) and acoustic impedance as AI (kg/m2s*10^6). \n",
    "\n",
    "There are a lot of efficient methods to calculate summary statistics from tabular data in DataFrames. The describe command provides count, mean, minimum, maximum, and quartiles all in a nice data table. We use transpose just to flip the table so that features are on the rows and the statistics are on the columns."
   ]
  },
  {
   "cell_type": "code",
   "execution_count": 7,
   "metadata": {},
   "outputs": [
    {
     "data": {
      "text/html": [
       "<div>\n",
       "<style scoped>\n",
       "    .dataframe tbody tr th:only-of-type {\n",
       "        vertical-align: middle;\n",
       "    }\n",
       "\n",
       "    .dataframe tbody tr th {\n",
       "        vertical-align: top;\n",
       "    }\n",
       "\n",
       "    .dataframe thead th {\n",
       "        text-align: right;\n",
       "    }\n",
       "</style>\n",
       "<table border=\"1\" class=\"dataframe\">\n",
       "  <thead>\n",
       "    <tr style=\"text-align: right;\">\n",
       "      <th></th>\n",
       "      <th>count</th>\n",
       "      <th>mean</th>\n",
       "      <th>std</th>\n",
       "      <th>min</th>\n",
       "      <th>25%</th>\n",
       "      <th>50%</th>\n",
       "      <th>75%</th>\n",
       "      <th>max</th>\n",
       "    </tr>\n",
       "  </thead>\n",
       "  <tbody>\n",
       "    <tr>\n",
       "      <th>Unnamed: 0</th>\n",
       "      <td>271.0</td>\n",
       "      <td>294.247232</td>\n",
       "      <td>172.581236</td>\n",
       "      <td>0.000000</td>\n",
       "      <td>145.500000</td>\n",
       "      <td>291.000000</td>\n",
       "      <td>449.500000</td>\n",
       "      <td>583.000000</td>\n",
       "    </tr>\n",
       "    <tr>\n",
       "      <th>X</th>\n",
       "      <td>271.0</td>\n",
       "      <td>479.501845</td>\n",
       "      <td>286.991468</td>\n",
       "      <td>0.000000</td>\n",
       "      <td>240.000000</td>\n",
       "      <td>480.000000</td>\n",
       "      <td>710.000000</td>\n",
       "      <td>990.000000</td>\n",
       "    </tr>\n",
       "    <tr>\n",
       "      <th>Y</th>\n",
       "      <td>271.0</td>\n",
       "      <td>526.092251</td>\n",
       "      <td>283.632200</td>\n",
       "      <td>9.000000</td>\n",
       "      <td>299.000000</td>\n",
       "      <td>519.000000</td>\n",
       "      <td>760.000000</td>\n",
       "      <td>1014.000000</td>\n",
       "    </tr>\n",
       "    <tr>\n",
       "      <th>Facies</th>\n",
       "      <td>271.0</td>\n",
       "      <td>0.771218</td>\n",
       "      <td>0.420826</td>\n",
       "      <td>0.000000</td>\n",
       "      <td>1.000000</td>\n",
       "      <td>1.000000</td>\n",
       "      <td>1.000000</td>\n",
       "      <td>1.000000</td>\n",
       "    </tr>\n",
       "    <tr>\n",
       "      <th>Porosity</th>\n",
       "      <td>271.0</td>\n",
       "      <td>0.141707</td>\n",
       "      <td>0.028341</td>\n",
       "      <td>0.060693</td>\n",
       "      <td>0.121702</td>\n",
       "      <td>0.139365</td>\n",
       "      <td>0.157774</td>\n",
       "      <td>0.221607</td>\n",
       "    </tr>\n",
       "    <tr>\n",
       "      <th>Perm</th>\n",
       "      <td>271.0</td>\n",
       "      <td>405.800235</td>\n",
       "      <td>2187.349333</td>\n",
       "      <td>0.018054</td>\n",
       "      <td>1.583239</td>\n",
       "      <td>7.817239</td>\n",
       "      <td>52.040563</td>\n",
       "      <td>24182.542972</td>\n",
       "    </tr>\n",
       "    <tr>\n",
       "      <th>AI</th>\n",
       "      <td>271.0</td>\n",
       "      <td>5174.470023</td>\n",
       "      <td>1136.028676</td>\n",
       "      <td>1808.774980</td>\n",
       "      <td>4481.353010</td>\n",
       "      <td>5111.164955</td>\n",
       "      <td>5956.595128</td>\n",
       "      <td>8260.108949</td>\n",
       "    </tr>\n",
       "  </tbody>\n",
       "</table>\n",
       "</div>"
      ],
      "text/plain": [
       "            count         mean          std          min          25%  \\\n",
       "Unnamed: 0  271.0   294.247232   172.581236     0.000000   145.500000   \n",
       "X           271.0   479.501845   286.991468     0.000000   240.000000   \n",
       "Y           271.0   526.092251   283.632200     9.000000   299.000000   \n",
       "Facies      271.0     0.771218     0.420826     0.000000     1.000000   \n",
       "Porosity    271.0     0.141707     0.028341     0.060693     0.121702   \n",
       "Perm        271.0   405.800235  2187.349333     0.018054     1.583239   \n",
       "AI          271.0  5174.470023  1136.028676  1808.774980  4481.353010   \n",
       "\n",
       "                    50%          75%           max  \n",
       "Unnamed: 0   291.000000   449.500000    583.000000  \n",
       "X            480.000000   710.000000    990.000000  \n",
       "Y            519.000000   760.000000   1014.000000  \n",
       "Facies         1.000000     1.000000      1.000000  \n",
       "Porosity       0.139365     0.157774      0.221607  \n",
       "Perm           7.817239    52.040563  24182.542972  \n",
       "AI          5111.164955  5956.595128   8260.108949  "
      ]
     },
     "execution_count": 7,
     "metadata": {},
     "output_type": "execute_result"
    }
   ],
   "source": [
    "df.describe().T"
   ]
  },
  {
   "cell_type": "markdown",
   "metadata": {},
   "source": [
    "We can also use a wide variety of statistical summaries built into NumPy's ndarrays.  When we use the command:\n",
    "```p\n",
    "df['Porosity']                       # returns an Pandas series\n",
    "df['Porosity'].values                # returns an ndarray\n",
    "```\n",
    "Panda's DataFrame returns all the porosity data as a series and if we add 'values' it returns a NumPy ndarray and we have access to a lot of NumPy methods. I also like to use the round function to round the answer to a limited number of digits for accurate reporting of precision and ease of reading.\n",
    "\n",
    "For example, now we could use commands. like this one:"
   ]
  },
  {
   "cell_type": "code",
   "execution_count": 8,
   "metadata": {},
   "outputs": [
    {
     "name": "stdout",
     "output_type": "stream",
     "text": [
      "The minimum is 0.06.\n",
      "The maximum is 0.22.\n",
      "The standard deviation is 0.03.\n",
      "The standard deviation is 0.03.\n"
     ]
    }
   ],
   "source": [
    "print('The minimum is ' + str(round((df['Porosity'].values).min(),2)) + '.')\n",
    "print('The maximum is ' + str(round((df['Porosity'].values).max(),2)) + '.')\n",
    "print('The standard deviation is ' + str(round((df['Porosity'].values).std(),2)) + '.')\n",
    "print('The standard deviation is ' + str(round((df['Porosity'].values).std(),2)) + '.')"
   ]
  },
  {
   "cell_type": "markdown",
   "metadata": {},
   "source": [
    "Here's some of the NumPy statistical functions that take ndarrays as an inputs.  With these methods if you had a multidimensional array you could calculate the average by row (axis = 1) or by column (axis = 0) or over the entire array (no axis specified). We just have a 1D ndarray so this is not applicable here."
   ]
  },
  {
   "cell_type": "code",
   "execution_count": 9,
   "metadata": {},
   "outputs": [
    {
     "name": "stdout",
     "output_type": "stream",
     "text": [
      "The minimum is 0.06\n",
      "The maximum is 0.22\n",
      "The range (maximum - minimum) is 0.16\n",
      "The P10 is 0.109\n",
      "The P50 is 0.139\n",
      "The P90 is 0.18\n",
      "The P13 is 0.113\n",
      "The media (P50) is 0.139\n",
      "The mean is 0.142\n"
     ]
    }
   ],
   "source": [
    "print('The minimum is ' + str(round(np.amin(df['Porosity'].values),2)))\n",
    "print('The maximum is ' + str(round(np.amax(df['Porosity'].values),2)))\n",
    "print('The range (maximum - minimum) is ' + str(round(np.ptp(df['Porosity'].values),2)))\n",
    "print('The P10 is ' + str(round(np.percentile(df['Porosity'].values,10),3)))\n",
    "print('The P50 is ' + str(round(np.percentile(df['Porosity'].values,50),3)))\n",
    "print('The P90 is ' + str(round(np.percentile(df['Porosity'].values,90),3)))\n",
    "print('The P13 is ' + str(round(np.percentile(df['Porosity'].values,13),3)))\n",
    "print('The media (P50) is ' + str(round(np.median(df['Porosity'].values),3)))\n",
    "print('The mean is ' + str(round(np.mean(df['Porosity'].values),3)))"
   ]
  },
  {
   "cell_type": "markdown",
   "metadata": {},
   "source": [
    "Later in the course we will talke about weights statistics. The NumPy command average allows for weighted averages as in the case of statistical expectation and declutered statistics. For demonstration, lets make a weighting array and apply it."
   ]
  },
  {
   "cell_type": "code",
   "execution_count": 10,
   "metadata": {},
   "outputs": [
    {
     "name": "stdout",
     "output_type": "stream",
     "text": [
      "The equal weighted average is 0.142, the same as the mean above.\n"
     ]
    }
   ],
   "source": [
    "nd = len(df)                              # get the number of data values\n",
    "wts = np.ones(nd)                         # make an array of nd length of 1's\n",
    "print('The equal weighted average is ' + str(round(np.average(df['Porosity'].values,weights = wts),3)) + ', the same as the mean above.')            "
   ]
  },
  {
   "cell_type": "markdown",
   "metadata": {},
   "source": [
    "Let's get fancy, we will modify the weights to be 0.5 if the porosity is greater than 13% and retain 1.0 if the porosity is less than or equal to 13%. The results should be a lower weighted average.  "
   ]
  },
  {
   "cell_type": "code",
   "execution_count": 11,
   "metadata": {},
   "outputs": [
    {
     "name": "stdout",
     "output_type": "stream",
     "text": [
      "The equal weighted average is 0.12, lower than the equal weighted average above.\n"
     ]
    }
   ],
   "source": [
    "porosity = df['Porosity'].values\n",
    "wts[porosity > 0.13] *= 0.1\n",
    "print('The equal weighted average is ' + str(round(np.average(df['Porosity'].values,weights = wts),3)) + ', lower than the equal weighted average above.')"
   ]
  },
  {
   "cell_type": "markdown",
   "metadata": {},
   "source": [
    "I should note that SciPy stats functions provide a handy summary statistics function. The output is a 'list' of values (actually it is a SciPy.DescribeResult ojbect). One can extract any one of them to use in a workflow as follows."
   ]
  },
  {
   "cell_type": "code",
   "execution_count": 12,
   "metadata": {},
   "outputs": [
    {
     "name": "stdout",
     "output_type": "stream",
     "text": [
      "DescribeResult(nobs=271, minmax=(0.0606929054762965, 0.2216072275194954), mean=0.14170682372612758, variance=0.0008032023487016326, skewness=0.322623982397355, kurtosis=0.03328901745300428)\n",
      "Porosity kurtosis is 0.03\n"
     ]
    }
   ],
   "source": [
    "print(stats.describe(df['Porosity'].values))                # summary statistics   \n",
    "por_stats = stats.describe(df['Porosity'].values)           # store as an array\n",
    "print('Porosity kurtosis is ' + str(round(por_stats[5],2))) # extract a statistic "
   ]
  },
  {
   "cell_type": "markdown",
   "metadata": {},
   "source": [
    "#### Plotting Distributions\n",
    "\n",
    "Let's display some histograms. I reimplimented the hist function from GSLIB. See the parameters."
   ]
  },
  {
   "cell_type": "code",
   "execution_count": 13,
   "metadata": {},
   "outputs": [
    {
     "data": {
      "text/plain": [
       "<function geostatspy.GSLIB.hist(array, xmin, xmax, log, cumul, bins, weights, xlabel, title, fig_name)>"
      ]
     },
     "execution_count": 13,
     "metadata": {},
     "output_type": "execute_result"
    }
   ],
   "source": [
    "GSLIB.hist"
   ]
  },
  {
   "cell_type": "markdown",
   "metadata": {},
   "source": [
    "Let's make a histogram for porosity."
   ]
  },
  {
   "cell_type": "code",
   "execution_count": 14,
   "metadata": {},
   "outputs": [
    {
     "data": {
      "image/png": "[encoded data removed]",
      "text/plain": [
       "<Figure size 576x432 with 1 Axes>"
      ]
     },
     "metadata": {
      "needs_background": "light"
     },
     "output_type": "display_data"
    }
   ],
   "source": [
    "pormin = 0.05; pormax = 0.25\n",
    "GSLIB.hist(df['Porosity'].values,pormin,pormax,log=False,cumul = False,bins=10,weights = None, xlabel='Porosity (fraction)',title='Porosity Well Data',fig_name='hist_Porosity')"
   ]
  },
  {
   "cell_type": "markdown",
   "metadata": {},
   "source": [
    "What's going on here? Looks quite bimodal. Let's explore with a couple bins sizes to check."
   ]
  },
  {
   "cell_type": "code",
   "execution_count": 15,
   "metadata": {},
   "outputs": [
    {
     "data": {
      "image/png": "[encoded data removed]",
      "text/plain": [
       "<Figure size 432x288 with 3 Axes>"
      ]
     },
     "metadata": {
      "needs_background": "light"
     },
     "output_type": "display_data"
    }
   ],
   "source": [
    "plt.subplot(131)\n",
    "GSLIB.hist_st(df['Porosity'].values,pormin,pormax,log=False,cumul = False,bins=5,weights = None,xlabel='Porosity (fraction)',title='Porosity Well Data')\n",
    "\n",
    "plt.subplot(132)\n",
    "GSLIB.hist_st(df['Porosity'].values,pormin,pormax,log=False,cumul = False,bins=10,weights = None,xlabel='Porosity (fraction)',title='Porosity Well Data')\n",
    "\n",
    "plt.subplot(133)\n",
    "GSLIB.hist_st(df['Porosity'].values,pormin,pormax,log=False,cumul = False,bins=20,weights = None,xlabel='Porosity (fraction)',title='Porosity Well Data')\n",
    "\n",
    "plt.subplots_adjust(left=0.0, bottom=0.0, right=3.0, top=1.5, wspace=0.1, hspace=0.2)\n",
    "plt.savefig('hist_Porosity_Multiple_bins.tif',dpi=600,bbox_inches=\"tight\")\n",
    "plt.show()"
   ]
  },
  {
   "cell_type": "markdown",
   "metadata": {},
   "source": [
    "What about cumulative plots? This method makes a cumulative histogram, but the axis remains in frequency. To be a true cumulative distribution function we would need to standardize the Y-axis to be from 0.0 to 1.0."
   ]
  },
  {
   "cell_type": "code",
   "execution_count": 16,
   "metadata": {},
   "outputs": [
    {
     "data": {
      "image/png": "[encoded data removed]",
      "text/plain": [
       "<Figure size 576x432 with 1 Axes>"
      ]
     },
     "metadata": {
      "needs_background": "light"
     },
     "output_type": "display_data"
    }
   ],
   "source": [
    "GSLIB.hist(df['Porosity'].values,pormin,pormax,log=False,cumul = True,bins=100,weights = None,xlabel='Porosity (fraction)',title='Porosity Well Data',fig_name='hist_Porosity_CDF')"
   ]
  },
  {
   "cell_type": "markdown",
   "metadata": {},
   "source": [
    "I don't want to suggest that matplotlib is hard to use. The GSLIB visualizations provide convenience and once again use the same parameters as the GSLIB methods. Particularly, the 'hist' function is pretty easy to use.  Here's how we can make a pretty nice looking CDF from our data.  Note after the initial hist command we can add a variety of features such as labels to our plot as shown below."
   ]
  },
  {
   "cell_type": "code",
   "execution_count": 17,
   "metadata": {},
   "outputs": [
    {
     "data": {
      "image/png": "[encoded data removed]",
      "text/plain": [
       "<Figure size 432x288 with 1 Axes>"
      ]
     },
     "metadata": {
      "needs_background": "light"
     },
     "output_type": "display_data"
    }
   ],
   "source": [
    "plt.hist(df['Porosity'].values,density=True, cumulative=True, label='CDF',\n",
    "           histtype='stepfilled', alpha=0.2, bins = 100, color='red', edgecolor = 'black', range=[0.0,0.25])\n",
    "plt.xlabel('Porosity (fraction)')\n",
    "plt.title('Porosity CDF')\n",
    "plt.ylabel('Cumulation Probability')\n",
    "plt.subplots_adjust(left=0.0, bottom=0.0, right=1.0, top=1.0, wspace=0.1, hspace=0.2)\n",
    "plt.savefig('cdf_Porosity.tif',dpi=600,bbox_inches=\"tight\")\n",
    "plt.show()"
   ]
  },
  {
   "cell_type": "markdown",
   "metadata": {},
   "source": [
    "Let's finish with the histograms of all our properties of interest as a finale!"
   ]
  },
  {
   "cell_type": "code",
   "execution_count": 18,
   "metadata": {},
   "outputs": [
    {
     "data": {
      "image/png": "[encoded data removed]",
      "text/plain": [
       "<Figure size 432x288 with 4 Axes>"
      ]
     },
     "metadata": {
      "needs_background": "light"
     },
     "output_type": "display_data"
    }
   ],
   "source": [
    "permmin = 0.01; permmax = 3000;                # user specified min and max\n",
    "AImin = 1000.0; AImax = 8000\n",
    "Fmin = 0; Fmax = 1\n",
    "\n",
    "plt.subplot(221)\n",
    "GSLIB.hist_st(df['Facies'].values,Fmin,Fmax,log=False,cumul = False,bins=20,weights = None,xlabel='Facies (1-sand, 0-shale)',title='Facies Well Data')\n",
    "\n",
    "plt.subplot(222)\n",
    "GSLIB.hist_st(df['Porosity'].values,pormin,pormax,log=False,cumul = False,bins=20,weights = None,xlabel='Porosity (fraction)',title='Porosity Well Data')\n",
    "\n",
    "plt.subplot(223)\n",
    "GSLIB.hist_st(df['Perm'].values,permmin,permmax,log=False,cumul = False,bins=20,weights = None,xlabel='Permeaiblity (mD)',title='Permeability Well Data')\n",
    "\n",
    "plt.subplot(224)\n",
    "GSLIB.hist_st(df['AI'].values,AImin,AImax,log=False,cumul = False,bins=20,weights = None,xlabel='Acoustic Impedance (kg/m2s*10^6)',title='Acoustic Impedance Well Data')\n",
    "\n",
    "plt.subplots_adjust(left=0.0, bottom=0.0, right=3.0, top=3.5, wspace=0.1, hspace=0.2)\n",
    "plt.savefig('hist_Porosity_Multiple_bins.tif',dpi=600,bbox_inches=\"tight\")\n",
    "plt.show()"
   ]
  },
  {
   "cell_type": "markdown",
   "metadata": {},
   "source": [
    "#### Comments\n",
    "\n",
    "This was a basic demonstration of calculating univariate statistics and visualizing data distributions. Much more could be done, I have other demosntrations on basics of working with DataFrames, ndarrays and many other workflows availble at https://github.com/GeostatsGuy/PythonNumericalDemos and https://github.com/GeostatsGuy/GeostatsPy.\n",
    "\n",
    "I hope this was helpful,\n",
    "\n",
    "*Michael*\n",
    "\n",
    "Michael Pyrcz, Ph.D., P.Eng. Associate Professor The Hildebrand Department of Petroleum and Geosystems Engineering, Bureau of Economic Geology, The Jackson School of Geosciences, The University of Texas at Austin\n",
    "\n",
    "#### More Resources Available at: [Twitter](https://twitter.com/geostatsguy) | [GitHub](https://github.com/GeostatsGuy) | [Website](http://michaelpyrcz.com) | [GoogleScholar](https://scholar.google.com/citations?user=QVZ20eQAAAAJ&hl=en&oi=ao) | [Book](https://www.amazon.com/Geostatistical-Reservoir-Modeling-Michael-Pyrcz/dp/0199731446) | [YouTube](https://www.youtube.com/channel/UCLqEr-xV-ceHdXXXrTId5ig)  | [LinkedIn](https://www.linkedin.com/in/michael-pyrcz-61a648a1)\n"
   ]
  }
 ],
 "metadata": {
  "kernelspec": {
   "display_name": "Python 3",
   "language": "python",
   "name": "python3"
  },
  "language_info": {
   "codemirror_mode": {
    "name": "ipython",
    "version": 3
   },
   "file_extension": ".py",
   "mimetype": "text/x-python",
   "name": "python",
   "nbconvert_exporter": "python",
   "pygments_lexer": "ipython3",
   "version": "3.7.1"
  }
 },
 "nbformat": 4,
 "nbformat_minor": 2
}
